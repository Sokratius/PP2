{
 "cells": [
  {
   "cell_type": "code",
   "execution_count": 82,
   "metadata": {},
   "outputs": [
    {
     "name": "stdout",
     "output_type": "stream",
     "text": [
      "Do not match\n"
     ]
    }
   ],
   "source": [
    "import re\n",
    "\n",
    "txt = input()\n",
    "\n",
    "x = re.search(r\"a+b*\", txt)\n",
    "\n",
    "if x:\n",
    "    print(txt)\n",
    "else:\n",
    "    print(\"Do not match\")"
   ]
  },
  {
   "cell_type": "code",
   "execution_count": 83,
   "metadata": {},
   "outputs": [
    {
     "name": "stdout",
     "output_type": "stream",
     "text": [
      "abbffff\n"
     ]
    }
   ],
   "source": [
    "import re\n",
    "\n",
    "txt = input()\n",
    "\n",
    "x = re.search(r'a+b{2,3}', txt)\n",
    "\n",
    "if x:\n",
    "    print(txt)\n",
    "else:\n",
    "    print(\"Does not match\")"
   ]
  },
  {
   "cell_type": "code",
   "execution_count": 86,
   "metadata": {},
   "outputs": [
    {
     "name": "stdout",
     "output_type": "stream",
     "text": [
      "aaplp_apl\n"
     ]
    }
   ],
   "source": [
    "import re\n",
    "\n",
    "txt = input()\n",
    "\n",
    "x = re.search(r'[a-z]+_a[a-z]+', txt)\n",
    "\n",
    "if x:\n",
    "    print(x.group())\n",
    "else:\n",
    "    print('Not found')"
   ]
  },
  {
   "cell_type": "code",
   "execution_count": 44,
   "metadata": {},
   "outputs": [
    {
     "name": "stdout",
     "output_type": "stream",
     "text": [
      "Fffffffffffff\n"
     ]
    }
   ],
   "source": [
    "import re\n",
    "\n",
    "txt = input(\"Enter a string: \")\n",
    "x = re.search(r\"[A-Z][a-z]+\", txt)\n",
    "\n",
    "if x:\n",
    "    print(x.group())\n",
    "else:\n",
    "    print(\"Not found\")"
   ]
  },
  {
   "cell_type": "code",
   "execution_count": 87,
   "metadata": {},
   "outputs": [
    {
     "name": "stdout",
     "output_type": "stream",
     "text": [
      "akjfkjfkjfkjfkb\n"
     ]
    }
   ],
   "source": [
    "import re\n",
    "\n",
    "\n",
    "txt = input('Write your string: ')\n",
    "\n",
    "x = re.search(r'a[a-z]*b', txt)\n",
    "\n",
    "if x:\n",
    "    print(x.group())\n",
    "else:\n",
    "    print('Not found')"
   ]
  },
  {
   "cell_type": "code",
   "execution_count": 88,
   "metadata": {},
   "outputs": [
    {
     "name": "stdout",
     "output_type": "stream",
     "text": [
      "kjfkjf|kfjkfjk\n"
     ]
    }
   ],
   "source": [
    "import re\n",
    "\n",
    "txt = input(\"Enter \")\n",
    "\n",
    "x = re.sub(r\"[ ,.]\", \"|\", txt)\n",
    "\n",
    "print(x)"
   ]
  },
  {
   "cell_type": "code",
   "execution_count": 89,
   "metadata": {},
   "outputs": [
    {
     "name": "stdout",
     "output_type": "stream",
     "text": [
      "JadhjdhDkjdk\n"
     ]
    }
   ],
   "source": [
    "\n",
    "txt = input(\"Enter word in snake case type: \")\n",
    "\n",
    "x = ''.join(word.title() for word in txt.split('_'))\n",
    "\n",
    "print(x)\n",
    "\n"
   ]
  },
  {
   "cell_type": "code",
   "execution_count": 90,
   "metadata": {},
   "outputs": [
    {
     "name": "stdout",
     "output_type": "stream",
     "text": [
      "['kjfkfj', 'AAjkjkj', 'AA']\n"
     ]
    }
   ],
   "source": [
    "import re\n",
    "\n",
    "txt = input()\n",
    "\n",
    "x = re.split(r'(?<=[a-z])(?=[A-Z])', txt)\n",
    "print(x)\n"
   ]
  },
  {
   "cell_type": "code",
   "execution_count": 91,
   "metadata": {},
   "outputs": [
    {
     "name": "stdout",
     "output_type": "stream",
     "text": [
      " Hello World\n"
     ]
    }
   ],
   "source": [
    "import re\n",
    "\n",
    "txt = input()\n",
    "\n",
    "x = re.sub(r\"([A-Z])\", r' \\1', txt)\n",
    "\n",
    "print(x)"
   ]
  },
  {
   "cell_type": "code",
   "execution_count": 92,
   "metadata": {},
   "outputs": [
    {
     "name": "stdout",
     "output_type": "stream",
     "text": [
      "BamfbnbBfnbf\n"
     ]
    }
   ],
   "source": [
    "import re\n",
    "\n",
    "name = input()\n",
    "\n",
    "x = re.sub('_','', name.title())\n",
    "\n",
    "print(x)"
   ]
  }
 ],
 "metadata": {
  "kernelspec": {
   "display_name": "Python 3",
   "language": "python",
   "name": "python3"
  },
  "language_info": {
   "codemirror_mode": {
    "name": "ipython",
    "version": 3
   },
   "file_extension": ".py",
   "mimetype": "text/x-python",
   "name": "python",
   "nbconvert_exporter": "python",
   "pygments_lexer": "ipython3",
   "version": "3.12.1"
  }
 },
 "nbformat": 4,
 "nbformat_minor": 2
}
