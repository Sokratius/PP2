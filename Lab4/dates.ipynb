{
 "cells": [
  {
   "cell_type": "code",
   "execution_count": 9,
   "metadata": {},
   "outputs": [
    {
     "name": "stdout",
     "output_type": "stream",
     "text": [
      "2024-02-22 15:40:13.949468\n"
     ]
    }
   ],
   "source": [
    "import datetime\n",
    "from datetime import  timedelta\n",
    "def Day_minus(a):\n",
    "    x = datetime.datetime.now()\n",
    "    print(x +timedelta(days = a))\n",
    "Day_minus(0)\n"
   ]
  },
  {
   "cell_type": "code",
   "execution_count": 10,
   "metadata": {},
   "outputs": [
    {
     "name": "stdout",
     "output_type": "stream",
     "text": [
      "2024-02-22 15:40:37.689027\n"
     ]
    }
   ],
   "source": [
    "from datetime import timedelta\n",
    "import datetime \n",
    "def Which_day():\n",
    "    x = input()\n",
    "    current_date = datetime.datetime.now()\n",
    "    if x == \"yesterday\" or x == \"Yesterday\":\n",
    "        print(current_date + timedelta(days = -1))\n",
    "    elif x == \"tomorrow\" or x == \"Tomorrow\":\n",
    "        print(current_date + timedelta(days = 1))\n",
    "    else:\n",
    "        print(current_date)\n",
    "Which_day()"
   ]
  },
  {
   "cell_type": "code",
   "execution_count": 6,
   "metadata": {},
   "outputs": [
    {
     "name": "stdout",
     "output_type": "stream",
     "text": [
      "2024-15-22, 15:15:52.000000\n"
     ]
    }
   ],
   "source": [
    "from datetime import *\n",
    "\n",
    "x = datetime.now()\n",
    "without_ms = x.replace(microsecond=0)\n",
    "\n",
    "print(without_ms.strftime(\"%Y-%M-%d, %H:%M:%S.%f\"))"
   ]
  },
  {
   "cell_type": "code",
   "execution_count": 11,
   "metadata": {},
   "outputs": [
    {
     "name": "stdout",
     "output_type": "stream",
     "text": [
      "86400.0\n"
     ]
    }
   ],
   "source": [
    "from datetime import *\n",
    "\n",
    "def seconds(x, y):\n",
    "    x_date = datetime(year = x[0], month = x[1], day = x[2])\n",
    "    y_date = datetime(year = y[0], month = y[1], day = y[2])\n",
    "\n",
    "    if x_date > y_date:\n",
    "        print((x_date-y_date).total_seconds())\n",
    "    else:\n",
    "        print((y_date-x_date).total_seconds())\n",
    "\n",
    "first_date = input(\"Enter first date time in format yyyy-mm-dd: \").split(\"-\")\n",
    "second_date = input(\"Enter second date time in format yyyy-mm-dd: \").split(\"-\")\n",
    "\n",
    "\n",
    "seconds(list(map(int, first_date)), list(map(int, second_date)))"
   ]
  }
 ],
 "metadata": {
  "kernelspec": {
   "display_name": "Python 3",
   "language": "python",
   "name": "python3"
  },
  "language_info": {
   "codemirror_mode": {
    "name": "ipython",
    "version": 3
   },
   "file_extension": ".py",
   "mimetype": "text/x-python",
   "name": "python",
   "nbconvert_exporter": "python",
   "pygments_lexer": "ipython3",
   "version": "3.12.1"
  }
 },
 "nbformat": 4,
 "nbformat_minor": 2
}
