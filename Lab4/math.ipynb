{
 "cells": [
  {
   "cell_type": "code",
   "execution_count": 6,
   "metadata": {},
   "outputs": [
    {
     "name": "stdout",
     "output_type": "stream",
     "text": [
      "Output radian:  3.1416\n"
     ]
    }
   ],
   "source": [
    "from math import *\n",
    "\n",
    "def gradus(degree):\n",
    "    return round(radians(degree), 4)\n",
    "    \n",
    "\n",
    "x = int(input(\"Input degree\"))\n",
    "print(\"Output radian: \", gradus(x))"
   ]
  },
  {
   "cell_type": "code",
   "execution_count": 5,
   "metadata": {},
   "outputs": [
    {
     "name": "stdout",
     "output_type": "stream",
     "text": [
      "Expected Output:  75.0\n"
     ]
    }
   ],
   "source": [
    "from math import *\n",
    "\n",
    "def trapezoid(a, b, h):\n",
    "    return (1/2) * (a + b) * h\n",
    "\n",
    "h = int(input(\"Height:\"))\n",
    "a = int(input(\"Base, first value: \"))\n",
    "b = int(input(\"Base, second value:\"))\n",
    "\n",
    "print(\"Expected Output: \", trapezoid(a, b, h))"
   ]
  },
  {
   "cell_type": "code",
   "execution_count": 4,
   "metadata": {},
   "outputs": [
    {
     "name": "stdout",
     "output_type": "stream",
     "text": [
      "The area of the polygon is:  618\n"
     ]
    }
   ],
   "source": [
    "from math import *\n",
    "\n",
    "def polligon_area(number_of_sides, length_of_side):\n",
    "    apothem = length_of_side / (2 * tan(pi / number_of_sides))\n",
    "    return round((length_of_side * number_of_sides * apothem) / 2)\n",
    "\n",
    "\n",
    "n = int(input(\"Input number of sides: \"))\n",
    "\n",
    "if n > 2:\n",
    "    l = int(input(\"Input the length of a side: \"))\n",
    "    print(\"The area of the polygon is: \", polligon_area(n, l))\n",
    "else:\n",
    "    print(\"Polygon does not exist\")"
   ]
  },
  {
   "cell_type": "code",
   "execution_count": 3,
   "metadata": {},
   "outputs": [
    {
     "name": "stdout",
     "output_type": "stream",
     "text": [
      "Expected Output: 8.0\n"
     ]
    }
   ],
   "source": [
    "from math import *\n",
    "\n",
    "\n",
    "l = int(input(\"Length of base: \"))\n",
    "h = int(input(\"Height of pallelogramm: \"))\n",
    "print(f\"Expected Output: {float(l * h)}\")"
   ]
  }
 ],
 "metadata": {
  "kernelspec": {
   "display_name": "Python 3",
   "language": "python",
   "name": "python3"
  },
  "language_info": {
   "codemirror_mode": {
    "name": "ipython",
    "version": 3
   },
   "file_extension": ".py",
   "mimetype": "text/x-python",
   "name": "python",
   "nbconvert_exporter": "python",
   "pygments_lexer": "ipython3",
   "version": "3.12.1"
  }
 },
 "nbformat": 4,
 "nbformat_minor": 2
}
